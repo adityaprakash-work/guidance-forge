{
 "cells": [
  {
   "cell_type": "markdown",
   "metadata": {},
   "source": [
    "### **DEPENDENCIES**"
   ]
  },
  {
   "cell_type": "code",
   "execution_count": 1,
   "metadata": {},
   "outputs": [],
   "source": [
    "%load_ext autoreload"
   ]
  },
  {
   "cell_type": "code",
   "execution_count": 2,
   "metadata": {},
   "outputs": [],
   "source": [
    "%autoreload 2\n",
    "import logging\n",
    "import guidance\n",
    "import guidance_forge as gf\n",
    "from guidance import gen, system, user, assistant, Tool, json, silent\n",
    "from pydantic import BaseModel\n",
    "\n",
    "logging.basicConfig(level=logging.CRITICAL + 1)"
   ]
  },
  {
   "cell_type": "code",
   "execution_count": 3,
   "metadata": {},
   "outputs": [],
   "source": [
    "googleai_settings = gf.settings.GoogleAISettings()\n",
    "lm = guidance.models.GoogleAIChat(\n",
    "    model=\"gemini-1.5-flash\", api_key=googleai_settings.api_key, echo=False\n",
    ")\n",
    "lm.echo = True"
   ]
  }
 ],
 "metadata": {
  "kernelspec": {
   "display_name": ".venv",
   "language": "python",
   "name": "python3"
  },
  "language_info": {
   "codemirror_mode": {
    "name": "ipython",
    "version": 3
   },
   "file_extension": ".py",
   "mimetype": "text/x-python",
   "name": "python",
   "nbconvert_exporter": "python",
   "pygments_lexer": "ipython3",
   "version": "3.12.0"
  }
 },
 "nbformat": 4,
 "nbformat_minor": 2
}
